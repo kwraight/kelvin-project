{
 "cells": [
  {
   "cell_type": "markdown",
   "metadata": {},
   "source": [
    "## Scraper\n",
    "\n",
    "Scrape webpages for DoB and DoD info.\n",
    "\n",
    "Write compiled information to CSV"
   ]
  },
  {
   "cell_type": "code",
   "execution_count": 169,
   "metadata": {},
   "outputs": [],
   "source": [
    "import re\n",
    "import requests\n",
    "from bs4 import BeautifulSoup\n",
    "import pandas as pd\n",
    "import altair as alt\n"
   ]
  },
  {
   "cell_type": "markdown",
   "metadata": {},
   "source": [
    "## Make list of agent names"
   ]
  },
  {
   "cell_type": "code",
   "execution_count": 137,
   "metadata": {},
   "outputs": [],
   "source": [
    "nameList=[\"Lord Kelvin\", \"Albert Einstein\"]"
   ]
  },
  {
   "cell_type": "markdown",
   "metadata": {},
   "source": [
    "## Scrape wikipedia"
   ]
  },
  {
   "cell_type": "markdown",
   "metadata": {},
   "source": [
    "### Useful Functions"
   ]
  },
  {
   "cell_type": "code",
   "execution_count": 147,
   "metadata": {},
   "outputs": [],
   "source": [
    "### get wikipedia info. box as text\n",
    "def GetXmlInfo(inStr):\n",
    "\n",
    "    nameStr=\"_\".join(inStr.split(' '))\n",
    "    url = f'http://en.wikipedia.org/w/api.php?action=query&prop=revisions&rvprop=content&rvsection=0&titles={nameStr}&format=xml'\n",
    "\n",
    "    # print(url)\n",
    "\n",
    "    res = requests.get(url)\n",
    "    soup = BeautifulSoup(res.text, \"xml\")\n",
    "\n",
    "    try:\n",
    "        return soup.query.pages.revisions.getText()\n",
    "    except Exception as e:\n",
    "        print(\"Retieve xml info went wrong\")\n",
    "        print(f\"An exception of type {type(e).__name__} occurred. Details: {str(e)}\")\n",
    "        return None"
   ]
  },
  {
   "cell_type": "code",
   "execution_count": 166,
   "metadata": {},
   "outputs": [],
   "source": [
    "### get birth and death dates from info. text\n",
    "def GetLifeSpan(xmlInfo):\n",
    "    birth_data, death_data= None, None\n",
    "    print(\"here\")\n",
    "    try:\n",
    "        birth_re = re.search(r'(birth date(.*?)}})', xmlInfo)\n",
    "        birth_data = birth_re.group(0).split('|')\n",
    "    except AttributeError:\n",
    "        birth_re = re.search(r'(Birth date(.*?)}})', xmlInfo)\n",
    "        birth_data = birth_re.group(0).split('|')\n",
    "    except Exception as e:\n",
    "        print(\"Birth search went wrong\")\n",
    "        print(f\"An exception of type {type(e).__name__} occurred. Details: {str(e)}\")\n",
    "    \n",
    "    if birth_data!=None:\n",
    "        birth_data=[bd.replace('{','').replace('}','') for bd in birth_data if \"df\" not in bd]\n",
    "        birthStr=f\"{birth_data[1]}-{birth_data[2]}-{birth_data[3]}\"\n",
    "        print(\"Got Birth info:\",birthStr)\n",
    "    else:\n",
    "        birthStr=None\n",
    "\n",
    "    try:\n",
    "        death_re = re.search(r'(death date(.*?)}})', xmlInfo)\n",
    "        death_data = death_re.group(0).split('|')\n",
    "        print(\"there\")\n",
    "    except AttributeError:\n",
    "        death_re = re.search(r'(Death date(.*?)}})', xmlInfo)\n",
    "        death_data = death_re.group(0).split('|')\n",
    "        print(\"or there\")\n",
    "    except Exception as e:\n",
    "        print(\"Death search went wrong\")\n",
    "        print(f\"An exception of type {type(e).__name__} occurred. Details: {str(e)}\")\n",
    "\n",
    "    if death_data!=None:\n",
    "        death_data=[dd.replace('{','').replace('}','') for dd in death_data if \"df\" not in dd]\n",
    "        deathStr=f\"{death_data[1]}-{death_data[2]}-{death_data[3]}\"\n",
    "        print(\"Got Death info:\",deathStr)\n",
    "    else:\n",
    "        deathStr=None\n",
    "\n",
    "    return birthStr, deathStr\n"
   ]
  },
  {
   "cell_type": "markdown",
   "metadata": {},
   "source": [
    "### do Scraping"
   ]
  },
  {
   "cell_type": "code",
   "execution_count": 167,
   "metadata": {},
   "outputs": [
    {
     "name": "stdout",
     "output_type": "stream",
     "text": [
      "### Lord Kelvin\n",
      "here\n",
      "Got Birth info: 1824-06-26\n",
      "there\n",
      "Got Death info: 1907-12-17\n",
      "### sdf sdfsd\n",
      "Retieve xml info went wrong\n",
      "An exception of type AttributeError occurred. Details: 'NoneType' object has no attribute 'getText'\n",
      "No xmlInfo returned. skipping\n",
      "### Albert Einstein\n",
      "here\n",
      "Got Birth info: 1879-3-14\n",
      "or there\n",
      "Got Death info: 1955-4-18\n"
     ]
    }
   ],
   "source": [
    "\n",
    "data=[]\n",
    "for name in nameList:\n",
    "    print(f\"### {name}\")\n",
    "    \n",
    "    data.append({'name':name})\n",
    "\n",
    "    xmlInfo=GetXmlInfo(name)\n",
    "    # print(xmlInfo)\n",
    "\n",
    "    if xmlInfo==None:\n",
    "        print(\"No xmlInfo returned. skipping\")\n",
    "        continue\n",
    "\n",
    "    # print(xmlInfo)\n",
    "    dob, dod = GetLifeSpan(xmlInfo)\n",
    "    \n",
    "    data[-1]['born']=dob\n",
    "    data[-1]['died']=dod\n",
    "\n",
    "    "
   ]
  },
  {
   "cell_type": "markdown",
   "metadata": {},
   "source": [
    "## Visualisation"
   ]
  },
  {
   "cell_type": "markdown",
   "metadata": {},
   "source": [
    "### Table of data"
   ]
  },
  {
   "cell_type": "code",
   "execution_count": 168,
   "metadata": {},
   "outputs": [
    {
     "data": {
      "text/html": [
       "<div>\n",
       "<style scoped>\n",
       "    .dataframe tbody tr th:only-of-type {\n",
       "        vertical-align: middle;\n",
       "    }\n",
       "\n",
       "    .dataframe tbody tr th {\n",
       "        vertical-align: top;\n",
       "    }\n",
       "\n",
       "    .dataframe thead th {\n",
       "        text-align: right;\n",
       "    }\n",
       "</style>\n",
       "<table border=\"1\" class=\"dataframe\">\n",
       "  <thead>\n",
       "    <tr style=\"text-align: right;\">\n",
       "      <th></th>\n",
       "      <th>name</th>\n",
       "      <th>born</th>\n",
       "      <th>died</th>\n",
       "    </tr>\n",
       "  </thead>\n",
       "  <tbody>\n",
       "    <tr>\n",
       "      <th>0</th>\n",
       "      <td>Lord Kelvin</td>\n",
       "      <td>1824-06-26</td>\n",
       "      <td>1907-12-17</td>\n",
       "    </tr>\n",
       "    <tr>\n",
       "      <th>1</th>\n",
       "      <td>sdf sdfsd</td>\n",
       "      <td>NaN</td>\n",
       "      <td>NaN</td>\n",
       "    </tr>\n",
       "    <tr>\n",
       "      <th>2</th>\n",
       "      <td>Albert Einstein</td>\n",
       "      <td>1879-3-14</td>\n",
       "      <td>1955-4-18</td>\n",
       "    </tr>\n",
       "  </tbody>\n",
       "</table>\n",
       "</div>"
      ],
      "text/plain": [
       "              name        born        died\n",
       "0      Lord Kelvin  1824-06-26  1907-12-17\n",
       "1        sdf sdfsd         NaN         NaN\n",
       "2  Albert Einstein   1879-3-14   1955-4-18"
      ]
     },
     "execution_count": 168,
     "metadata": {},
     "output_type": "execute_result"
    }
   ],
   "source": [
    "df_data=pd.DataFrame(data)\n",
    "df_data"
   ]
  },
  {
   "cell_type": "markdown",
   "metadata": {},
   "source": [
    "### Timeline chart"
   ]
  },
  {
   "cell_type": "code",
   "execution_count": 170,
   "metadata": {},
   "outputs": [
    {
     "data": {
      "text/html": [
       "\n",
       "<div id=\"altair-viz-4068751095c9450586c94f72626ee94f\"></div>\n",
       "<script type=\"text/javascript\">\n",
       "  var VEGA_DEBUG = (typeof VEGA_DEBUG == \"undefined\") ? {} : VEGA_DEBUG;\n",
       "  (function(spec, embedOpt){\n",
       "    let outputDiv = document.currentScript.previousElementSibling;\n",
       "    if (outputDiv.id !== \"altair-viz-4068751095c9450586c94f72626ee94f\") {\n",
       "      outputDiv = document.getElementById(\"altair-viz-4068751095c9450586c94f72626ee94f\");\n",
       "    }\n",
       "    const paths = {\n",
       "      \"vega\": \"https://cdn.jsdelivr.net/npm//vega@5?noext\",\n",
       "      \"vega-lib\": \"https://cdn.jsdelivr.net/npm//vega-lib?noext\",\n",
       "      \"vega-lite\": \"https://cdn.jsdelivr.net/npm//vega-lite@4.17.0?noext\",\n",
       "      \"vega-embed\": \"https://cdn.jsdelivr.net/npm//vega-embed@6?noext\",\n",
       "    };\n",
       "\n",
       "    function maybeLoadScript(lib, version) {\n",
       "      var key = `${lib.replace(\"-\", \"\")}_version`;\n",
       "      return (VEGA_DEBUG[key] == version) ?\n",
       "        Promise.resolve(paths[lib]) :\n",
       "        new Promise(function(resolve, reject) {\n",
       "          var s = document.createElement('script');\n",
       "          document.getElementsByTagName(\"head\")[0].appendChild(s);\n",
       "          s.async = true;\n",
       "          s.onload = () => {\n",
       "            VEGA_DEBUG[key] = version;\n",
       "            return resolve(paths[lib]);\n",
       "          };\n",
       "          s.onerror = () => reject(`Error loading script: ${paths[lib]}`);\n",
       "          s.src = paths[lib];\n",
       "        });\n",
       "    }\n",
       "\n",
       "    function showError(err) {\n",
       "      outputDiv.innerHTML = `<div class=\"error\" style=\"color:red;\">${err}</div>`;\n",
       "      throw err;\n",
       "    }\n",
       "\n",
       "    function displayChart(vegaEmbed) {\n",
       "      vegaEmbed(outputDiv, spec, embedOpt)\n",
       "        .catch(err => showError(`Javascript Error: ${err.message}<br>This usually means there's a typo in your chart specification. See the javascript console for the full traceback.`));\n",
       "    }\n",
       "\n",
       "    if(typeof define === \"function\" && define.amd) {\n",
       "      requirejs.config({paths});\n",
       "      require([\"vega-embed\"], displayChart, err => showError(`Error loading script: ${err.message}`));\n",
       "    } else {\n",
       "      maybeLoadScript(\"vega\", \"5\")\n",
       "        .then(() => maybeLoadScript(\"vega-lite\", \"4.17.0\"))\n",
       "        .then(() => maybeLoadScript(\"vega-embed\", \"6\"))\n",
       "        .catch(showError)\n",
       "        .then(() => displayChart(vegaEmbed));\n",
       "    }\n",
       "  })({\"config\": {\"view\": {\"continuousWidth\": 400, \"continuousHeight\": 300}}, \"data\": {\"name\": \"data-15b3be080bcc24d3b048e7f955fe3ae5\"}, \"mark\": \"bar\", \"encoding\": {\"x\": {\"field\": \"born\", \"type\": \"temporal\"}, \"x2\": {\"field\": \"died\"}, \"y\": {\"field\": \"name\", \"type\": \"nominal\"}}, \"$schema\": \"https://vega.github.io/schema/vega-lite/v4.17.0.json\", \"datasets\": {\"data-15b3be080bcc24d3b048e7f955fe3ae5\": [{\"name\": \"Lord Kelvin\", \"born\": \"1824-06-26\", \"died\": \"1907-12-17\"}, {\"name\": \"sdf sdfsd\", \"born\": null, \"died\": null}, {\"name\": \"Albert Einstein\", \"born\": \"1879-3-14\", \"died\": \"1955-4-18\"}]}}, {\"mode\": \"vega-lite\"});\n",
       "</script>"
      ],
      "text/plain": [
       "alt.Chart(...)"
      ]
     },
     "execution_count": 170,
     "metadata": {},
     "output_type": "execute_result"
    }
   ],
   "source": [
    "alt.Chart(df_data).mark_bar().encode(\n",
    "    x='born:T',\n",
    "    x2='died:T',\n",
    "    y='name'\n",
    ")"
   ]
  },
  {
   "cell_type": "code",
   "execution_count": null,
   "metadata": {},
   "outputs": [],
   "source": []
  }
 ],
 "metadata": {
  "kernelspec": {
   "display_name": "Python 3",
   "language": "python",
   "name": "python3"
  },
  "language_info": {
   "codemirror_mode": {
    "name": "ipython",
    "version": 3
   },
   "file_extension": ".py",
   "mimetype": "text/x-python",
   "name": "python",
   "nbconvert_exporter": "python",
   "pygments_lexer": "ipython3",
   "version": "3.10.4"
  },
  "orig_nbformat": 4
 },
 "nbformat": 4,
 "nbformat_minor": 2
}
